{
 "cells": [
  {
   "cell_type": "markdown",
   "metadata": {},
   "source": [
    "# Data scraping awesome public datasets\n",
    "\n",
    "This is a companion notebook for the new [Data Science Solutions](https://strtupsci.com) book. The code is explained in the book."
   ]
  },
  {
   "cell_type": "code",
   "execution_count": 922,
   "metadata": {
    "collapsed": false
   },
   "outputs": [],
   "source": [
    "%matplotlib inline\n",
    "import urllib2\n",
    "from bs4 import BeautifulSoup\n",
    "import pandas as pd\n",
    "import matplotlib.pyplot as plt\n",
    "from subprocess import check_output\n",
    "plt.style.use('seaborn-paper')"
   ]
  },
  {
   "cell_type": "code",
   "execution_count": 923,
   "metadata": {
    "collapsed": true
   },
   "outputs": [],
   "source": [
    "awesome_list = 'https://github.com/caesar0301/awesome-public-datasets/blob/master/README.rst'\n",
    "html = urllib2.urlopen(awesome_list)\n",
    "scrape = BeautifulSoup(html, 'lxml')"
   ]
  },
  {
   "cell_type": "code",
   "execution_count": 924,
   "metadata": {
    "collapsed": true
   },
   "outputs": [],
   "source": [
    "category_name_feature = []; about_feature = []\n",
    "name_feature = []; vintage_feature = []\n",
    "link_feature = []; category_id_feature = []\n",
    "github_feature = []; dataset_feature = []"
   ]
  },
  {
   "cell_type": "code",
   "execution_count": 925,
   "metadata": {
    "collapsed": true
   },
   "outputs": [],
   "source": [
    "# Populate github column\n",
    "def extract_github_feature(link_text, link_url):\n",
    "    if link_text:\n",
    "        github_ref = link_url.find('github.com')\n",
    "\n",
    "        if github_ref > -1:\n",
    "            github_feature.append('Yes')\n",
    "        else:\n",
    "            github_feature.append('No')            \n",
    "    else:\n",
    "        github_feature.append('No')"
   ]
  },
  {
   "cell_type": "code",
   "execution_count": 926,
   "metadata": {
    "collapsed": true
   },
   "outputs": [],
   "source": [
    "# Populate dataset column\n",
    "def extract_dataset_feature(link_text, link_url):\n",
    "    if link_text:\n",
    "        dataset_ref = link_url.find('dataset')\n",
    "        datasource_ref = link_url.find('datasets')\n",
    "\n",
    "        if dataset_ref > -1 and datasource_ref == -1:\n",
    "            dataset_feature.append('Yes')\n",
    "            return\n",
    "\n",
    "        if dataset_ref > -1 and datasource_ref > -1:\n",
    "            dataset_feature.append('No')\n",
    "            return\n",
    "\n",
    "        if dataset_ref == -1:\n",
    "            dataset_feature.append('No')\n",
    "            return\n",
    "    else:\n",
    "        dataset_feature.append('No')"
   ]
  },
  {
   "cell_type": "code",
   "execution_count": 927,
   "metadata": {
    "collapsed": true
   },
   "outputs": [],
   "source": [
    "# Populate vintage column\n",
    "def extract_vintage_feature(link_text):\n",
    "    if link_text:\n",
    "        twenty = link_text.find('20')\n",
    "        nineteen = link_text.find('19')\n",
    "        if twenty > -1:\n",
    "            if all(char.isdigit() for char in link_text[twenty:twenty+4]):\n",
    "                vintage_feature.append(link_text[twenty:twenty+4])\n",
    "            else:\n",
    "                vintage_feature.append('')\n",
    "            return\n",
    "        if nineteen > -1:\n",
    "            if all(char.isdigit() for char in link_text[nineteen:nineteen+4]):\n",
    "                vintage_feature.append(link_text[nineteen:nineteen+4])\n",
    "            else:\n",
    "                vintage_feature.append('')        \n",
    "            return\n",
    "        vintage_feature.append('')\n",
    "    else:\n",
    "        vintage_feature.append('')"
   ]
  },
  {
   "cell_type": "code",
   "execution_count": 928,
   "metadata": {
    "collapsed": true
   },
   "outputs": [],
   "source": [
    "# Populate name column\n",
    "def extract_name_feature(link_text):\n",
    "    shortname = None\n",
    "    if link_text:\n",
    "        # Prefix to hyphen is a short name\n",
    "        split_dash = link_text.find(' - ')\n",
    "        if split_dash > -1:\n",
    "            shortname = link_text[0:split_dash]\n",
    "\n",
    "        # Abbreviations in brackets are short names\n",
    "        split_brackets = link_text.find('(')\n",
    "        end_brackets = link_text.find(')')\n",
    "        if split_brackets > -1:\n",
    "            shortname = link_text[split_brackets + 1:end_brackets]\n",
    "\n",
    "    if shortname:\n",
    "        if all(char.isdigit() for char in shortname):\n",
    "            shortname = None\n",
    "                \n",
    "    if shortname:\n",
    "        name_feature.append(shortname)\n",
    "    else:\n",
    "        if link_text:\n",
    "            # First four words are a short name\n",
    "            dataset_words = link_text.split()\n",
    "            if len(dataset_words) > 4:\n",
    "                name_feature.append(' '.join(dataset_words[0:3]))\n",
    "            else:\n",
    "                name_feature.append(link_text)\n",
    "        else:\n",
    "            name_feature.append(None)"
   ]
  },
  {
   "cell_type": "code",
   "execution_count": 929,
   "metadata": {
    "collapsed": false
   },
   "outputs": [],
   "source": [
    "headings_list = scrape.find_all('h2')\n",
    "for heading in headings_list:\n",
    "    if heading.a:\n",
    "        category = heading.a.next_sibling.string\n",
    "        category_name_feature.append(category)\n",
    "        link_list = heading.next_sibling.next_sibling.find_all('li')\n",
    "        for link in link_list:\n",
    "            link_text = link.string\n",
    "            category_id_feature.append(category)\n",
    "            about_feature.append(link_text)\n",
    "            link_url = link.a.get('href')\n",
    "            link_feature.append(link_url)\n",
    "            \n",
    "            extract_github_feature(link_text, link_url)\n",
    "            extract_dataset_feature(link_text, link_url)\n",
    "            extract_vintage_feature(link_text)\n",
    "            extract_name_feature(link_text)"
   ]
  },
  {
   "cell_type": "code",
   "execution_count": 943,
   "metadata": {
    "collapsed": false
   },
   "outputs": [
    {
     "data": {
      "text/html": [
       "<div>\n",
       "<table border=\"1\" class=\"dataframe\">\n",
       "  <thead>\n",
       "    <tr style=\"text-align: right;\">\n",
       "      <th></th>\n",
       "      <th>about</th>\n",
       "      <th>category_id</th>\n",
       "      <th>dataset</th>\n",
       "      <th>github</th>\n",
       "      <th>link</th>\n",
       "      <th>name</th>\n",
       "      <th>vintage</th>\n",
       "    </tr>\n",
       "  </thead>\n",
       "  <tbody>\n",
       "    <tr>\n",
       "      <th>0</th>\n",
       "      <td>U.S. Department of Agriculture's PLANTS Database</td>\n",
       "      <td>Agriculture</td>\n",
       "      <td>No</td>\n",
       "      <td>No</td>\n",
       "      <td>http://www.plants.usda.gov/dl_all.html</td>\n",
       "      <td>U.S. Department of</td>\n",
       "      <td></td>\n",
       "    </tr>\n",
       "    <tr>\n",
       "      <th>1</th>\n",
       "      <td>1000 Genomes</td>\n",
       "      <td>Biology</td>\n",
       "      <td>No</td>\n",
       "      <td>No</td>\n",
       "      <td>http://www.1000genomes.org/data</td>\n",
       "      <td>1000 Genomes</td>\n",
       "      <td></td>\n",
       "    </tr>\n",
       "    <tr>\n",
       "      <th>2</th>\n",
       "      <td>American Gut (Microbiome Project)</td>\n",
       "      <td>Biology</td>\n",
       "      <td>No</td>\n",
       "      <td>Yes</td>\n",
       "      <td>https://github.com/biocore/American-Gut</td>\n",
       "      <td>Microbiome Project</td>\n",
       "      <td></td>\n",
       "    </tr>\n",
       "    <tr>\n",
       "      <th>3</th>\n",
       "      <td>Broad Cancer Cell Line Encyclopedia (CCLE)</td>\n",
       "      <td>Biology</td>\n",
       "      <td>No</td>\n",
       "      <td>No</td>\n",
       "      <td>http://www.broadinstitute.org/ccle/home</td>\n",
       "      <td>CCLE</td>\n",
       "      <td></td>\n",
       "    </tr>\n",
       "    <tr>\n",
       "      <th>4</th>\n",
       "      <td>Broad Bioimage Benchmark Collection (BBBC)</td>\n",
       "      <td>Biology</td>\n",
       "      <td>No</td>\n",
       "      <td>No</td>\n",
       "      <td>https://www.broadinstitute.org/bbbc</td>\n",
       "      <td>BBBC</td>\n",
       "      <td></td>\n",
       "    </tr>\n",
       "  </tbody>\n",
       "</table>\n",
       "</div>"
      ],
      "text/plain": [
       "                                              about  category_id dataset  \\\n",
       "0  U.S. Department of Agriculture's PLANTS Database  Agriculture      No   \n",
       "1                                      1000 Genomes      Biology      No   \n",
       "2                 American Gut (Microbiome Project)      Biology      No   \n",
       "3        Broad Cancer Cell Line Encyclopedia (CCLE)      Biology      No   \n",
       "4        Broad Bioimage Benchmark Collection (BBBC)      Biology      No   \n",
       "\n",
       "  github                                     link                name vintage  \n",
       "0     No   http://www.plants.usda.gov/dl_all.html  U.S. Department of          \n",
       "1     No          http://www.1000genomes.org/data        1000 Genomes          \n",
       "2    Yes  https://github.com/biocore/American-Gut  Microbiome Project          \n",
       "3     No  http://www.broadinstitute.org/ccle/home                CCLE          \n",
       "4     No      https://www.broadinstitute.org/bbbc                BBBC          "
      ]
     },
     "execution_count": 943,
     "metadata": {},
     "output_type": "execute_result"
    }
   ],
   "source": [
    "df = pd.DataFrame(\n",
    "    {'name': name_feature, 'about': about_feature, \n",
    "     'link': link_feature, 'vintage': vintage_feature,\n",
    "     'dataset': pd.Categorical(dataset_feature),\n",
    "     'category_id': pd.Categorical(category_id_feature),\n",
    "     'github': pd.Categorical(github_feature)})\n",
    "\n",
    "df.head()"
   ]
  },
  {
   "cell_type": "code",
   "execution_count": 932,
   "metadata": {
    "collapsed": false
   },
   "outputs": [
    {
     "data": {
      "text/html": [
       "<div>\n",
       "<table border=\"1\" class=\"dataframe\">\n",
       "  <thead>\n",
       "    <tr style=\"text-align: right;\">\n",
       "      <th></th>\n",
       "      <th>name</th>\n",
       "    </tr>\n",
       "  </thead>\n",
       "  <tbody>\n",
       "    <tr>\n",
       "      <th>0</th>\n",
       "      <td>Agriculture</td>\n",
       "    </tr>\n",
       "    <tr>\n",
       "      <th>1</th>\n",
       "      <td>Biology</td>\n",
       "    </tr>\n",
       "    <tr>\n",
       "      <th>2</th>\n",
       "      <td>Climate/Weather</td>\n",
       "    </tr>\n",
       "    <tr>\n",
       "      <th>3</th>\n",
       "      <td>Complex Networks</td>\n",
       "    </tr>\n",
       "    <tr>\n",
       "      <th>4</th>\n",
       "      <td>Computer Networks</td>\n",
       "    </tr>\n",
       "  </tbody>\n",
       "</table>\n",
       "</div>"
      ],
      "text/plain": [
       "                name\n",
       "0        Agriculture\n",
       "1            Biology\n",
       "2    Climate/Weather\n",
       "3   Complex Networks\n",
       "4  Computer Networks"
      ]
     },
     "execution_count": 932,
     "metadata": {},
     "output_type": "execute_result"
    }
   ],
   "source": [
    "df_categories = pd.DataFrame({'name': pd.Series(category_name_feature)})\n",
    "df_categories.head()"
   ]
  },
  {
   "cell_type": "code",
   "execution_count": 933,
   "metadata": {
    "collapsed": false
   },
   "outputs": [
    {
     "data": {
      "text/html": [
       "<div>\n",
       "<table border=\"1\" class=\"dataframe\">\n",
       "  <thead>\n",
       "    <tr style=\"text-align: right;\">\n",
       "      <th></th>\n",
       "      <th>about</th>\n",
       "      <th>category_id</th>\n",
       "      <th>dataset</th>\n",
       "      <th>github</th>\n",
       "      <th>link</th>\n",
       "      <th>name</th>\n",
       "      <th>vintage</th>\n",
       "    </tr>\n",
       "  </thead>\n",
       "  <tbody>\n",
       "    <tr>\n",
       "      <th>count</th>\n",
       "      <td>395</td>\n",
       "      <td>414</td>\n",
       "      <td>414</td>\n",
       "      <td>414</td>\n",
       "      <td>414</td>\n",
       "      <td>395</td>\n",
       "      <td>414</td>\n",
       "    </tr>\n",
       "    <tr>\n",
       "      <th>unique</th>\n",
       "      <td>395</td>\n",
       "      <td>31</td>\n",
       "      <td>2</td>\n",
       "      <td>2</td>\n",
       "      <td>412</td>\n",
       "      <td>394</td>\n",
       "      <td>15</td>\n",
       "    </tr>\n",
       "    <tr>\n",
       "      <th>top</th>\n",
       "      <td>RevolutionAnalytics Collection</td>\n",
       "      <td>Biology</td>\n",
       "      <td>No</td>\n",
       "      <td>No</td>\n",
       "      <td>http://law.di.unimi.it/datasets.php</td>\n",
       "      <td>Twitter Data for</td>\n",
       "      <td></td>\n",
       "    </tr>\n",
       "    <tr>\n",
       "      <th>freq</th>\n",
       "      <td>1</td>\n",
       "      <td>42</td>\n",
       "      <td>407</td>\n",
       "      <td>394</td>\n",
       "      <td>3</td>\n",
       "      <td>2</td>\n",
       "      <td>389</td>\n",
       "    </tr>\n",
       "  </tbody>\n",
       "</table>\n",
       "</div>"
      ],
      "text/plain": [
       "                                 about category_id dataset github  \\\n",
       "count                              395         414     414    414   \n",
       "unique                             395          31       2      2   \n",
       "top     RevolutionAnalytics Collection     Biology      No     No   \n",
       "freq                                 1          42     407    394   \n",
       "\n",
       "                                       link              name vintage  \n",
       "count                                   414               395     414  \n",
       "unique                                  412               394      15  \n",
       "top     http://law.di.unimi.it/datasets.php  Twitter Data for          \n",
       "freq                                      3                 2     389  "
      ]
     },
     "execution_count": 933,
     "metadata": {},
     "output_type": "execute_result"
    }
   ],
   "source": [
    "df.describe()"
   ]
  },
  {
   "cell_type": "code",
   "execution_count": 934,
   "metadata": {
    "collapsed": false
   },
   "outputs": [
    {
     "data": {
      "text/plain": [
       "<matplotlib.axes._subplots.AxesSubplot at 0x136ec6990>"
      ]
     },
     "execution_count": 934,
     "metadata": {},
     "output_type": "execute_result"
    },
    {
     "data": {
      "image/png": "[encoded data removed]",
      "text/plain": [
       "<matplotlib.figure.Figure at 0x136ec6e10>"
      ]
     },
     "metadata": {},
     "output_type": "display_data"
    }
   ],
   "source": [
    "df[df.vintage!=''].groupby('vintage').count().dataset.plot.bar()"
   ]
  },
  {
   "cell_type": "code",
   "execution_count": 935,
   "metadata": {
    "collapsed": false
   },
   "outputs": [
    {
     "data": {
      "text/plain": [
       "<matplotlib.axes._subplots.AxesSubplot at 0x13fd32850>"
      ]
     },
     "execution_count": 935,
     "metadata": {},
     "output_type": "execute_result"
    },
    {
     "data": {
      "image/png": "[encoded data removed]",
      "text/plain": [
       "<matplotlib.figure.Figure at 0x13fd32ad0>"
      ]
     },
     "metadata": {},
     "output_type": "display_data"
    }
   ],
   "source": [
    "sorted_by_category_count = df.groupby('category_id').count().sort_values(by='dataset', ascending=False)\n",
    "\n",
    "plt.figure(figsize = (6,6))\n",
    "plt.xlabel('count of datasets or datasources')\n",
    "sorted_by_category_count.dataset.plot.barh(stacked=True)"
   ]
  },
  {
   "cell_type": "code",
   "execution_count": 936,
   "metadata": {
    "collapsed": false
   },
   "outputs": [
    {
     "data": {
      "text/html": [
       "<div>\n",
       "<table border=\"1\" class=\"dataframe\">\n",
       "  <thead>\n",
       "    <tr style=\"text-align: right;\">\n",
       "      <th></th>\n",
       "      <th>name</th>\n",
       "      <th>about</th>\n",
       "      <th>category_id</th>\n",
       "      <th>link</th>\n",
       "    </tr>\n",
       "  </thead>\n",
       "  <tbody>\n",
       "    <tr>\n",
       "      <th>count</th>\n",
       "      <td>395</td>\n",
       "      <td>395</td>\n",
       "      <td>414</td>\n",
       "      <td>414</td>\n",
       "    </tr>\n",
       "    <tr>\n",
       "      <th>unique</th>\n",
       "      <td>394</td>\n",
       "      <td>395</td>\n",
       "      <td>31</td>\n",
       "      <td>412</td>\n",
       "    </tr>\n",
       "    <tr>\n",
       "      <th>top</th>\n",
       "      <td>Twitter Data for</td>\n",
       "      <td>RevolutionAnalytics Collection</td>\n",
       "      <td>Biology</td>\n",
       "      <td>http://law.di.unimi.it/datasets.php</td>\n",
       "    </tr>\n",
       "    <tr>\n",
       "      <th>freq</th>\n",
       "      <td>2</td>\n",
       "      <td>1</td>\n",
       "      <td>42</td>\n",
       "      <td>3</td>\n",
       "    </tr>\n",
       "  </tbody>\n",
       "</table>\n",
       "</div>"
      ],
      "text/plain": [
       "                    name                           about category_id  \\\n",
       "count                395                             395         414   \n",
       "unique               394                             395          31   \n",
       "top     Twitter Data for  RevolutionAnalytics Collection     Biology   \n",
       "freq                   2                               1          42   \n",
       "\n",
       "                                       link  \n",
       "count                                   414  \n",
       "unique                                  412  \n",
       "top     http://law.di.unimi.it/datasets.php  \n",
       "freq                                      3  "
      ]
     },
     "execution_count": 936,
     "metadata": {},
     "output_type": "execute_result"
    }
   ],
   "source": [
    "df_datasources = df[(df.dataset=='No') | (df.github=='No') | (df.vintage=='')]\n",
    "df_datasources = df_datasources.loc[:,['name', 'about', 'category_id', 'link']]\n",
    "df_datasources.describe()"
   ]
  },
  {
   "cell_type": "code",
   "execution_count": 937,
   "metadata": {
    "collapsed": false
   },
   "outputs": [
    {
     "data": {
      "text/html": [
       "<div>\n",
       "<table border=\"1\" class=\"dataframe\">\n",
       "  <thead>\n",
       "    <tr style=\"text-align: right;\">\n",
       "      <th></th>\n",
       "      <th>name</th>\n",
       "      <th>about</th>\n",
       "      <th>category_id</th>\n",
       "      <th>link</th>\n",
       "      <th>github</th>\n",
       "      <th>vintage</th>\n",
       "    </tr>\n",
       "  </thead>\n",
       "  <tbody>\n",
       "    <tr>\n",
       "      <th>count</th>\n",
       "      <td>47</td>\n",
       "      <td>47</td>\n",
       "      <td>47</td>\n",
       "      <td>47</td>\n",
       "      <td>47</td>\n",
       "      <td>47</td>\n",
       "    </tr>\n",
       "    <tr>\n",
       "      <th>unique</th>\n",
       "      <td>47</td>\n",
       "      <td>47</td>\n",
       "      <td>16</td>\n",
       "      <td>47</td>\n",
       "      <td>2</td>\n",
       "      <td>15</td>\n",
       "    </tr>\n",
       "    <tr>\n",
       "      <th>top</th>\n",
       "      <td>Data Packaged Core Datasets</td>\n",
       "      <td>Ergast Formula 1, from 1950 up to date (API)</td>\n",
       "      <td>Transportation</td>\n",
       "      <td>http://ops.fhwa.dot.gov/freight/freight_analys...</td>\n",
       "      <td>No</td>\n",
       "      <td></td>\n",
       "    </tr>\n",
       "    <tr>\n",
       "      <th>freq</th>\n",
       "      <td>1</td>\n",
       "      <td>1</td>\n",
       "      <td>9</td>\n",
       "      <td>1</td>\n",
       "      <td>27</td>\n",
       "      <td>22</td>\n",
       "    </tr>\n",
       "  </tbody>\n",
       "</table>\n",
       "</div>"
      ],
      "text/plain": [
       "                               name  \\\n",
       "count                            47   \n",
       "unique                           47   \n",
       "top     Data Packaged Core Datasets   \n",
       "freq                              1   \n",
       "\n",
       "                                               about     category_id  \\\n",
       "count                                             47              47   \n",
       "unique                                            47              16   \n",
       "top     Ergast Formula 1, from 1950 up to date (API)  Transportation   \n",
       "freq                                               1               9   \n",
       "\n",
       "                                                     link github vintage  \n",
       "count                                                  47     47      47  \n",
       "unique                                                 47      2      15  \n",
       "top     http://ops.fhwa.dot.gov/freight/freight_analys...     No          \n",
       "freq                                                    1     27      22  "
      ]
     },
     "execution_count": 937,
     "metadata": {},
     "output_type": "execute_result"
    }
   ],
   "source": [
    "df_datasets = df[(df.dataset=='Yes') | (df.github=='Yes') | (df.vintage!='')]\n",
    "df_datasets = df_datasets.loc[:, ['name', 'about', 'category_id', 'link', 'github', 'vintage']]\n",
    "df_datasets.describe()"
   ]
  },
  {
   "cell_type": "code",
   "execution_count": 940,
   "metadata": {
    "collapsed": false
   },
   "outputs": [
    {
     "name": "stdout",
     "output_type": "stream",
     "text": [
      "categories.csv\n",
      "datasets.csv\n",
      "datasources.csv\n",
      "\n"
     ]
    }
   ],
   "source": [
    "df_categories.to_csv('data/scraping/categories.csv', index=False)\n",
    "df_datasets.to_csv('data/scraping/datasets.csv', index=False)\n",
    "df_datasources.to_csv('data/scraping/datasources.csv', index=False)\n",
    "\n",
    "print(check_output([\"ls\", \"data/scraping\"]).decode(\"utf8\"))"
   ]
  }
 ],
 "metadata": {
  "kernelspec": {
   "display_name": "Python [conda root]",
   "language": "python",
   "name": "conda-root-py"
  },
  "language_info": {
   "codemirror_mode": {
    "name": "ipython",
    "version": 2
   },
   "file_extension": ".py",
   "mimetype": "text/x-python",
   "name": "python",
   "nbconvert_exporter": "python",
   "pygments_lexer": "ipython2",
   "version": "2.7.12"
  }
 },
 "nbformat": 4,
 "nbformat_minor": 1
}
